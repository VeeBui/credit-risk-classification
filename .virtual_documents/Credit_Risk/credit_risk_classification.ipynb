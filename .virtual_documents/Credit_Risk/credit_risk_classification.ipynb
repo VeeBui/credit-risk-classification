# Import the modules
import numpy as np
import pandas as pd
from pathlib import Path
from sklearn.metrics import confusion_matrix, classification_report











# Read the CSV file from the Resources folder into a Pandas DataFrame
lendingData = pd.read_csv("Resources/lending_data.csv")

# Review the DataFrame
lendingData.head()





# Separate the data into labels and features

# Separate the y variable, the labels
y = lendingData["loan_status"]

# Separate the X variable, the features
X = lendingData.drop(columns="loan_status")


# Review the y variable Series
y.head()


# Review the X variable DataFrame
X.head()





# Import the train_test_learn module
from sklearn.model_selection import train_test_split

# Split the data using train_test_split
# Assign a random_state of 1 to the function
X_train, X_test, y_train, y_test = train_test_split(X, 
                                                    y, 
                                                    random_state=1, 
                                                    stratify=y)











# Import the LogisticRegression module from SKLearn
from sklearn.linear_model import LogisticRegression

# Instantiate the Logistic Regression model
# Assign a random_state parameter of 1 to the model
classifier = LogisticRegression(solver='lbfgs',
                                max_iter=200,
                                random_state=1)

# Fit the model using training data
classifier.fit(X_train, y_train)





# Make a prediction using the testing data
predictions = classifier.predict(X_test)





# Generate a confusion matrix for the model
confusion_matrix(y_test, predictions)


# Print the classification report for the model
from sklearn.metrics import classification_report
target_names = ["Healthy loan", "Default risk"]
print(classification_report(y_test, predictions, target_names=target_names,digits=4))









